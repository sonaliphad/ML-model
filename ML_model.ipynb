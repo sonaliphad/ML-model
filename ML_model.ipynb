{
 "cells": [
  {
   "cell_type": "code",
   "execution_count": 23,
   "metadata": {
    "id": "SKjz1y6VZgyn"
   },
   "outputs": [],
   "source": [
    "import numpy as np\n",
    "import pandas as pd\n",
    "import matplotlib.pyplot as plt\n",
    "import seaborn as sns\n",
    "import warnings\n",
    "warnings.filterwarnings(\"ignore\")"
   ]
  },
  {
   "cell_type": "code",
   "execution_count": 24,
   "metadata": {
    "id": "QcKpe5cNZlSi"
   },
   "outputs": [],
   "source": [
    "pd.set_option(\"display.max_columns\",None)\n",
    "pd.set_option(\"display.max_rows\",None)"
   ]
  },
  {
   "cell_type": "code",
   "execution_count": 25,
   "metadata": {
    "colab": {
     "base_uri": "https://localhost:8080/"
    },
    "id": "ueoiPiXYaUek",
    "outputId": "739afbbb-5bf4-4a42-bd7d-649f0a2fc11b"
   },
   "outputs": [
    {
     "data": {
      "text/plain": [
       "(7120, 108)"
      ]
     },
     "execution_count": 25,
     "metadata": {
      "tags": []
     },
     "output_type": "execute_result"
    }
   ],
   "source": [
    "path=r\"/content/data_reduce_cat_class.csv\"\n",
    "df=pd.read_csv(path)\n",
    "df.shape"
   ]
  },
  {
   "cell_type": "code",
   "execution_count": 26,
   "metadata": {
    "colab": {
     "base_uri": "https://localhost:8080/"
    },
    "id": "_DgiMJOQazHT",
    "outputId": "465d1759-a028-4668-b559-bcf91609299f"
   },
   "outputs": [
    {
     "data": {
      "text/plain": [
       "(7120, 108)"
      ]
     },
     "execution_count": 26,
     "metadata": {
      "tags": []
     },
     "output_type": "execute_result"
    }
   ],
   "source": [
    "df.shape"
   ]
  },
  {
   "cell_type": "code",
   "execution_count": 27,
   "metadata": {
    "colab": {
     "base_uri": "https://localhost:8080/",
     "height": 257
    },
    "id": "rmUO-tgAbVx6",
    "outputId": "730dac5e-c400-4de6-82e6-1fa771008be9"
   },
   "outputs": [
    {
     "data": {
      "text/html": [
       "<div>\n",
       "<style scoped>\n",
       "    .dataframe tbody tr th:only-of-type {\n",
       "        vertical-align: middle;\n",
       "    }\n",
       "\n",
       "    .dataframe tbody tr th {\n",
       "        vertical-align: top;\n",
       "    }\n",
       "\n",
       "    .dataframe thead th {\n",
       "        text-align: right;\n",
       "    }\n",
       "</style>\n",
       "<table border=\"1\" class=\"dataframe\">\n",
       "  <thead>\n",
       "    <tr style=\"text-align: right;\">\n",
       "      <th></th>\n",
       "      <th>bath</th>\n",
       "      <th>balcony</th>\n",
       "      <th>price</th>\n",
       "      <th>total_sqft_int</th>\n",
       "      <th>bhk</th>\n",
       "      <th>price_per_sqft</th>\n",
       "      <th>area_typeSuper built-up Area</th>\n",
       "      <th>area_typeBuilt-up Area</th>\n",
       "      <th>area_typePlot Area</th>\n",
       "      <th>availability_Ready To Move</th>\n",
       "      <th>location_Whitefield</th>\n",
       "      <th>location_Sarjapur  Road</th>\n",
       "      <th>location_Electronic City</th>\n",
       "      <th>location_Haralur Road</th>\n",
       "      <th>location_Raja Rajeshwari Nagar</th>\n",
       "      <th>location_Marathahalli</th>\n",
       "      <th>location_Hennur Road</th>\n",
       "      <th>location_Bannerghatta Road</th>\n",
       "      <th>location_Uttarahalli</th>\n",
       "      <th>location_Thanisandra</th>\n",
       "      <th>location_Electronic City Phase II</th>\n",
       "      <th>location_Hebbal</th>\n",
       "      <th>location_Yelahanka</th>\n",
       "      <th>location_7th Phase JP Nagar</th>\n",
       "      <th>location_Kanakpura Road</th>\n",
       "      <th>location_KR Puram</th>\n",
       "      <th>location_Sarjapur</th>\n",
       "      <th>location_Rajaji Nagar</th>\n",
       "      <th>location_Bellandur</th>\n",
       "      <th>location_Kasavanhalli</th>\n",
       "      <th>location_Begur Road</th>\n",
       "      <th>location_Kothanur</th>\n",
       "      <th>location_Banashankari</th>\n",
       "      <th>location_Hormavu</th>\n",
       "      <th>location_Harlur</th>\n",
       "      <th>location_Akshaya Nagar</th>\n",
       "      <th>location_Electronics City Phase 1</th>\n",
       "      <th>location_Jakkur</th>\n",
       "      <th>location_Varthur</th>\n",
       "      <th>location_Hennur</th>\n",
       "      <th>location_Ramamurthy Nagar</th>\n",
       "      <th>location_HSR Layout</th>\n",
       "      <th>location_Chandapura</th>\n",
       "      <th>location_Kundalahalli</th>\n",
       "      <th>location_Kaggadasapura</th>\n",
       "      <th>location_Koramangala</th>\n",
       "      <th>location_Ramagondanahalli</th>\n",
       "      <th>location_Budigere</th>\n",
       "      <th>location_Hulimavu</th>\n",
       "      <th>location_Hoodi</th>\n",
       "      <th>location_Malleshwaram</th>\n",
       "      <th>location_JP Nagar</th>\n",
       "      <th>location_8th Phase JP Nagar</th>\n",
       "      <th>location_Hegde Nagar</th>\n",
       "      <th>location_Yeshwanthpur</th>\n",
       "      <th>location_Gottigere</th>\n",
       "      <th>location_Bisuvanahalli</th>\n",
       "      <th>location_Channasandra</th>\n",
       "      <th>location_Vittasandra</th>\n",
       "      <th>location_Indira Nagar</th>\n",
       "      <th>location_Sahakara Nagar</th>\n",
       "      <th>location_Vijayanagar</th>\n",
       "      <th>location_Hosa Road</th>\n",
       "      <th>location_Brookefield</th>\n",
       "      <th>location_Old Airport Road</th>\n",
       "      <th>location_Kengeri</th>\n",
       "      <th>location_Bommasandra</th>\n",
       "      <th>location_Balagere</th>\n",
       "      <th>location_Green Glen Layout</th>\n",
       "      <th>location_Kudlu Gate</th>\n",
       "      <th>location_Panathur</th>\n",
       "      <th>location_Rachenahalli</th>\n",
       "      <th>location_Old Madras Road</th>\n",
       "      <th>location_Kadugodi</th>\n",
       "      <th>location_Jigani</th>\n",
       "      <th>location_Ambedkar Nagar</th>\n",
       "      <th>location_Talaghattapura</th>\n",
       "      <th>location_Thigalarapalya</th>\n",
       "      <th>location_Yelahanka New Town</th>\n",
       "      <th>location_Mysore Road</th>\n",
       "      <th>location_Dodda Nekkundi</th>\n",
       "      <th>location_Devanahalli</th>\n",
       "      <th>location_Attibele</th>\n",
       "      <th>location_Kanakapura</th>\n",
       "      <th>location_Frazer Town</th>\n",
       "      <th>location_TC Palaya</th>\n",
       "      <th>location_5th Phase JP Nagar</th>\n",
       "      <th>location_Ananth Nagar</th>\n",
       "      <th>location_Nagarbhavi</th>\n",
       "      <th>location_Anekal</th>\n",
       "      <th>location_Lakshminarayana Pura</th>\n",
       "      <th>location_Kudlu</th>\n",
       "      <th>location_Jalahalli</th>\n",
       "      <th>location_Kengeri Satellite Town</th>\n",
       "      <th>location_CV Raman Nagar</th>\n",
       "      <th>location_Bhoganhalli</th>\n",
       "      <th>location_Subramanyapura</th>\n",
       "      <th>location_Kalena Agrahara</th>\n",
       "      <th>location_Horamavu Agara</th>\n",
       "      <th>location_Doddathoguru</th>\n",
       "      <th>location_BTM 2nd Stage</th>\n",
       "      <th>location_Hosur Road</th>\n",
       "      <th>location_Vidyaranyapura</th>\n",
       "      <th>location_Hebbal Kempapura</th>\n",
       "      <th>location_Mahadevpura</th>\n",
       "      <th>location_Tumkur Road</th>\n",
       "      <th>location_Horamavu Banaswadi</th>\n",
       "      <th>location_Domlur</th>\n",
       "    </tr>\n",
       "  </thead>\n",
       "  <tbody>\n",
       "    <tr>\n",
       "      <th>0</th>\n",
       "      <td>3.0</td>\n",
       "      <td>2.0</td>\n",
       "      <td>150.0</td>\n",
       "      <td>1672.0</td>\n",
       "      <td>3</td>\n",
       "      <td>8971.291866</td>\n",
       "      <td>0</td>\n",
       "      <td>0</td>\n",
       "      <td>0</td>\n",
       "      <td>1</td>\n",
       "      <td>0</td>\n",
       "      <td>0</td>\n",
       "      <td>0</td>\n",
       "      <td>0</td>\n",
       "      <td>0</td>\n",
       "      <td>0</td>\n",
       "      <td>0</td>\n",
       "      <td>0</td>\n",
       "      <td>0</td>\n",
       "      <td>0</td>\n",
       "      <td>0</td>\n",
       "      <td>0</td>\n",
       "      <td>0</td>\n",
       "      <td>0</td>\n",
       "      <td>0</td>\n",
       "      <td>0</td>\n",
       "      <td>0</td>\n",
       "      <td>0</td>\n",
       "      <td>0</td>\n",
       "      <td>0</td>\n",
       "      <td>0</td>\n",
       "      <td>0</td>\n",
       "      <td>0</td>\n",
       "      <td>0</td>\n",
       "      <td>0</td>\n",
       "      <td>0</td>\n",
       "      <td>0</td>\n",
       "      <td>0</td>\n",
       "      <td>0</td>\n",
       "      <td>0</td>\n",
       "      <td>0</td>\n",
       "      <td>0</td>\n",
       "      <td>0</td>\n",
       "      <td>0</td>\n",
       "      <td>0</td>\n",
       "      <td>0</td>\n",
       "      <td>0</td>\n",
       "      <td>0</td>\n",
       "      <td>0</td>\n",
       "      <td>0</td>\n",
       "      <td>0</td>\n",
       "      <td>0</td>\n",
       "      <td>0</td>\n",
       "      <td>0</td>\n",
       "      <td>0</td>\n",
       "      <td>0</td>\n",
       "      <td>0</td>\n",
       "      <td>0</td>\n",
       "      <td>0</td>\n",
       "      <td>0</td>\n",
       "      <td>0</td>\n",
       "      <td>0</td>\n",
       "      <td>0</td>\n",
       "      <td>0</td>\n",
       "      <td>0</td>\n",
       "      <td>0</td>\n",
       "      <td>0</td>\n",
       "      <td>0</td>\n",
       "      <td>0</td>\n",
       "      <td>0</td>\n",
       "      <td>0</td>\n",
       "      <td>0</td>\n",
       "      <td>0</td>\n",
       "      <td>0</td>\n",
       "      <td>0</td>\n",
       "      <td>0</td>\n",
       "      <td>0</td>\n",
       "      <td>0</td>\n",
       "      <td>0</td>\n",
       "      <td>0</td>\n",
       "      <td>0</td>\n",
       "      <td>0</td>\n",
       "      <td>0</td>\n",
       "      <td>0</td>\n",
       "      <td>0</td>\n",
       "      <td>0</td>\n",
       "      <td>0</td>\n",
       "      <td>0</td>\n",
       "      <td>0</td>\n",
       "      <td>0</td>\n",
       "      <td>0</td>\n",
       "      <td>0</td>\n",
       "      <td>0</td>\n",
       "      <td>0</td>\n",
       "      <td>0</td>\n",
       "      <td>0</td>\n",
       "      <td>0</td>\n",
       "      <td>0</td>\n",
       "      <td>0</td>\n",
       "      <td>0</td>\n",
       "      <td>0</td>\n",
       "      <td>0</td>\n",
       "      <td>0</td>\n",
       "      <td>0</td>\n",
       "      <td>0</td>\n",
       "      <td>0</td>\n",
       "      <td>0</td>\n",
       "      <td>0</td>\n",
       "    </tr>\n",
       "    <tr>\n",
       "      <th>1</th>\n",
       "      <td>3.0</td>\n",
       "      <td>3.0</td>\n",
       "      <td>149.0</td>\n",
       "      <td>1750.0</td>\n",
       "      <td>3</td>\n",
       "      <td>8514.285714</td>\n",
       "      <td>0</td>\n",
       "      <td>0</td>\n",
       "      <td>0</td>\n",
       "      <td>1</td>\n",
       "      <td>0</td>\n",
       "      <td>0</td>\n",
       "      <td>0</td>\n",
       "      <td>0</td>\n",
       "      <td>0</td>\n",
       "      <td>0</td>\n",
       "      <td>0</td>\n",
       "      <td>0</td>\n",
       "      <td>0</td>\n",
       "      <td>0</td>\n",
       "      <td>0</td>\n",
       "      <td>0</td>\n",
       "      <td>0</td>\n",
       "      <td>0</td>\n",
       "      <td>0</td>\n",
       "      <td>0</td>\n",
       "      <td>0</td>\n",
       "      <td>0</td>\n",
       "      <td>0</td>\n",
       "      <td>0</td>\n",
       "      <td>0</td>\n",
       "      <td>0</td>\n",
       "      <td>0</td>\n",
       "      <td>0</td>\n",
       "      <td>0</td>\n",
       "      <td>0</td>\n",
       "      <td>0</td>\n",
       "      <td>0</td>\n",
       "      <td>0</td>\n",
       "      <td>0</td>\n",
       "      <td>0</td>\n",
       "      <td>0</td>\n",
       "      <td>0</td>\n",
       "      <td>0</td>\n",
       "      <td>0</td>\n",
       "      <td>0</td>\n",
       "      <td>0</td>\n",
       "      <td>0</td>\n",
       "      <td>0</td>\n",
       "      <td>0</td>\n",
       "      <td>0</td>\n",
       "      <td>0</td>\n",
       "      <td>0</td>\n",
       "      <td>0</td>\n",
       "      <td>0</td>\n",
       "      <td>0</td>\n",
       "      <td>0</td>\n",
       "      <td>0</td>\n",
       "      <td>0</td>\n",
       "      <td>0</td>\n",
       "      <td>0</td>\n",
       "      <td>0</td>\n",
       "      <td>0</td>\n",
       "      <td>0</td>\n",
       "      <td>0</td>\n",
       "      <td>0</td>\n",
       "      <td>0</td>\n",
       "      <td>0</td>\n",
       "      <td>0</td>\n",
       "      <td>0</td>\n",
       "      <td>0</td>\n",
       "      <td>0</td>\n",
       "      <td>0</td>\n",
       "      <td>0</td>\n",
       "      <td>0</td>\n",
       "      <td>0</td>\n",
       "      <td>0</td>\n",
       "      <td>0</td>\n",
       "      <td>0</td>\n",
       "      <td>0</td>\n",
       "      <td>0</td>\n",
       "      <td>0</td>\n",
       "      <td>0</td>\n",
       "      <td>0</td>\n",
       "      <td>0</td>\n",
       "      <td>0</td>\n",
       "      <td>0</td>\n",
       "      <td>0</td>\n",
       "      <td>0</td>\n",
       "      <td>0</td>\n",
       "      <td>0</td>\n",
       "      <td>0</td>\n",
       "      <td>0</td>\n",
       "      <td>0</td>\n",
       "      <td>0</td>\n",
       "      <td>0</td>\n",
       "      <td>0</td>\n",
       "      <td>0</td>\n",
       "      <td>0</td>\n",
       "      <td>0</td>\n",
       "      <td>0</td>\n",
       "      <td>0</td>\n",
       "      <td>0</td>\n",
       "      <td>0</td>\n",
       "      <td>0</td>\n",
       "      <td>0</td>\n",
       "      <td>0</td>\n",
       "      <td>0</td>\n",
       "    </tr>\n",
       "    <tr>\n",
       "      <th>2</th>\n",
       "      <td>3.0</td>\n",
       "      <td>2.0</td>\n",
       "      <td>150.0</td>\n",
       "      <td>1750.0</td>\n",
       "      <td>3</td>\n",
       "      <td>8571.428571</td>\n",
       "      <td>0</td>\n",
       "      <td>0</td>\n",
       "      <td>0</td>\n",
       "      <td>1</td>\n",
       "      <td>0</td>\n",
       "      <td>0</td>\n",
       "      <td>0</td>\n",
       "      <td>0</td>\n",
       "      <td>0</td>\n",
       "      <td>0</td>\n",
       "      <td>0</td>\n",
       "      <td>0</td>\n",
       "      <td>0</td>\n",
       "      <td>0</td>\n",
       "      <td>0</td>\n",
       "      <td>0</td>\n",
       "      <td>0</td>\n",
       "      <td>0</td>\n",
       "      <td>0</td>\n",
       "      <td>0</td>\n",
       "      <td>0</td>\n",
       "      <td>0</td>\n",
       "      <td>0</td>\n",
       "      <td>0</td>\n",
       "      <td>0</td>\n",
       "      <td>0</td>\n",
       "      <td>0</td>\n",
       "      <td>0</td>\n",
       "      <td>0</td>\n",
       "      <td>0</td>\n",
       "      <td>0</td>\n",
       "      <td>0</td>\n",
       "      <td>0</td>\n",
       "      <td>0</td>\n",
       "      <td>0</td>\n",
       "      <td>0</td>\n",
       "      <td>0</td>\n",
       "      <td>0</td>\n",
       "      <td>0</td>\n",
       "      <td>0</td>\n",
       "      <td>0</td>\n",
       "      <td>0</td>\n",
       "      <td>0</td>\n",
       "      <td>0</td>\n",
       "      <td>0</td>\n",
       "      <td>0</td>\n",
       "      <td>0</td>\n",
       "      <td>0</td>\n",
       "      <td>0</td>\n",
       "      <td>0</td>\n",
       "      <td>0</td>\n",
       "      <td>0</td>\n",
       "      <td>0</td>\n",
       "      <td>0</td>\n",
       "      <td>0</td>\n",
       "      <td>0</td>\n",
       "      <td>0</td>\n",
       "      <td>0</td>\n",
       "      <td>0</td>\n",
       "      <td>0</td>\n",
       "      <td>0</td>\n",
       "      <td>0</td>\n",
       "      <td>0</td>\n",
       "      <td>0</td>\n",
       "      <td>0</td>\n",
       "      <td>0</td>\n",
       "      <td>0</td>\n",
       "      <td>0</td>\n",
       "      <td>0</td>\n",
       "      <td>0</td>\n",
       "      <td>0</td>\n",
       "      <td>0</td>\n",
       "      <td>0</td>\n",
       "      <td>0</td>\n",
       "      <td>0</td>\n",
       "      <td>0</td>\n",
       "      <td>0</td>\n",
       "      <td>0</td>\n",
       "      <td>0</td>\n",
       "      <td>0</td>\n",
       "      <td>0</td>\n",
       "      <td>0</td>\n",
       "      <td>0</td>\n",
       "      <td>0</td>\n",
       "      <td>0</td>\n",
       "      <td>0</td>\n",
       "      <td>0</td>\n",
       "      <td>0</td>\n",
       "      <td>0</td>\n",
       "      <td>0</td>\n",
       "      <td>0</td>\n",
       "      <td>0</td>\n",
       "      <td>0</td>\n",
       "      <td>0</td>\n",
       "      <td>0</td>\n",
       "      <td>0</td>\n",
       "      <td>0</td>\n",
       "      <td>0</td>\n",
       "      <td>0</td>\n",
       "      <td>0</td>\n",
       "      <td>0</td>\n",
       "      <td>0</td>\n",
       "    </tr>\n",
       "    <tr>\n",
       "      <th>3</th>\n",
       "      <td>2.0</td>\n",
       "      <td>2.0</td>\n",
       "      <td>40.0</td>\n",
       "      <td>1250.0</td>\n",
       "      <td>2</td>\n",
       "      <td>3200.000000</td>\n",
       "      <td>0</td>\n",
       "      <td>0</td>\n",
       "      <td>0</td>\n",
       "      <td>1</td>\n",
       "      <td>0</td>\n",
       "      <td>0</td>\n",
       "      <td>0</td>\n",
       "      <td>0</td>\n",
       "      <td>0</td>\n",
       "      <td>0</td>\n",
       "      <td>0</td>\n",
       "      <td>0</td>\n",
       "      <td>0</td>\n",
       "      <td>0</td>\n",
       "      <td>0</td>\n",
       "      <td>0</td>\n",
       "      <td>0</td>\n",
       "      <td>0</td>\n",
       "      <td>0</td>\n",
       "      <td>0</td>\n",
       "      <td>0</td>\n",
       "      <td>0</td>\n",
       "      <td>0</td>\n",
       "      <td>0</td>\n",
       "      <td>0</td>\n",
       "      <td>0</td>\n",
       "      <td>0</td>\n",
       "      <td>0</td>\n",
       "      <td>0</td>\n",
       "      <td>0</td>\n",
       "      <td>0</td>\n",
       "      <td>0</td>\n",
       "      <td>0</td>\n",
       "      <td>0</td>\n",
       "      <td>0</td>\n",
       "      <td>0</td>\n",
       "      <td>0</td>\n",
       "      <td>0</td>\n",
       "      <td>0</td>\n",
       "      <td>0</td>\n",
       "      <td>0</td>\n",
       "      <td>0</td>\n",
       "      <td>0</td>\n",
       "      <td>0</td>\n",
       "      <td>0</td>\n",
       "      <td>0</td>\n",
       "      <td>0</td>\n",
       "      <td>0</td>\n",
       "      <td>0</td>\n",
       "      <td>0</td>\n",
       "      <td>0</td>\n",
       "      <td>0</td>\n",
       "      <td>0</td>\n",
       "      <td>0</td>\n",
       "      <td>0</td>\n",
       "      <td>0</td>\n",
       "      <td>0</td>\n",
       "      <td>0</td>\n",
       "      <td>0</td>\n",
       "      <td>0</td>\n",
       "      <td>0</td>\n",
       "      <td>0</td>\n",
       "      <td>0</td>\n",
       "      <td>0</td>\n",
       "      <td>0</td>\n",
       "      <td>0</td>\n",
       "      <td>0</td>\n",
       "      <td>0</td>\n",
       "      <td>0</td>\n",
       "      <td>0</td>\n",
       "      <td>0</td>\n",
       "      <td>0</td>\n",
       "      <td>0</td>\n",
       "      <td>0</td>\n",
       "      <td>0</td>\n",
       "      <td>0</td>\n",
       "      <td>0</td>\n",
       "      <td>0</td>\n",
       "      <td>0</td>\n",
       "      <td>0</td>\n",
       "      <td>0</td>\n",
       "      <td>0</td>\n",
       "      <td>0</td>\n",
       "      <td>0</td>\n",
       "      <td>0</td>\n",
       "      <td>0</td>\n",
       "      <td>0</td>\n",
       "      <td>0</td>\n",
       "      <td>0</td>\n",
       "      <td>0</td>\n",
       "      <td>0</td>\n",
       "      <td>0</td>\n",
       "      <td>0</td>\n",
       "      <td>0</td>\n",
       "      <td>0</td>\n",
       "      <td>0</td>\n",
       "      <td>0</td>\n",
       "      <td>0</td>\n",
       "      <td>0</td>\n",
       "      <td>0</td>\n",
       "      <td>0</td>\n",
       "      <td>0</td>\n",
       "    </tr>\n",
       "    <tr>\n",
       "      <th>4</th>\n",
       "      <td>2.0</td>\n",
       "      <td>2.0</td>\n",
       "      <td>83.0</td>\n",
       "      <td>1200.0</td>\n",
       "      <td>2</td>\n",
       "      <td>6916.666667</td>\n",
       "      <td>0</td>\n",
       "      <td>0</td>\n",
       "      <td>0</td>\n",
       "      <td>1</td>\n",
       "      <td>0</td>\n",
       "      <td>0</td>\n",
       "      <td>0</td>\n",
       "      <td>0</td>\n",
       "      <td>0</td>\n",
       "      <td>0</td>\n",
       "      <td>0</td>\n",
       "      <td>0</td>\n",
       "      <td>0</td>\n",
       "      <td>0</td>\n",
       "      <td>0</td>\n",
       "      <td>0</td>\n",
       "      <td>0</td>\n",
       "      <td>0</td>\n",
       "      <td>0</td>\n",
       "      <td>0</td>\n",
       "      <td>0</td>\n",
       "      <td>0</td>\n",
       "      <td>0</td>\n",
       "      <td>0</td>\n",
       "      <td>0</td>\n",
       "      <td>0</td>\n",
       "      <td>0</td>\n",
       "      <td>0</td>\n",
       "      <td>0</td>\n",
       "      <td>0</td>\n",
       "      <td>0</td>\n",
       "      <td>0</td>\n",
       "      <td>0</td>\n",
       "      <td>0</td>\n",
       "      <td>0</td>\n",
       "      <td>0</td>\n",
       "      <td>0</td>\n",
       "      <td>0</td>\n",
       "      <td>0</td>\n",
       "      <td>0</td>\n",
       "      <td>0</td>\n",
       "      <td>0</td>\n",
       "      <td>0</td>\n",
       "      <td>0</td>\n",
       "      <td>0</td>\n",
       "      <td>0</td>\n",
       "      <td>0</td>\n",
       "      <td>0</td>\n",
       "      <td>0</td>\n",
       "      <td>0</td>\n",
       "      <td>0</td>\n",
       "      <td>0</td>\n",
       "      <td>0</td>\n",
       "      <td>0</td>\n",
       "      <td>0</td>\n",
       "      <td>0</td>\n",
       "      <td>0</td>\n",
       "      <td>0</td>\n",
       "      <td>0</td>\n",
       "      <td>0</td>\n",
       "      <td>0</td>\n",
       "      <td>0</td>\n",
       "      <td>0</td>\n",
       "      <td>0</td>\n",
       "      <td>0</td>\n",
       "      <td>0</td>\n",
       "      <td>0</td>\n",
       "      <td>0</td>\n",
       "      <td>0</td>\n",
       "      <td>0</td>\n",
       "      <td>0</td>\n",
       "      <td>0</td>\n",
       "      <td>0</td>\n",
       "      <td>0</td>\n",
       "      <td>0</td>\n",
       "      <td>0</td>\n",
       "      <td>0</td>\n",
       "      <td>0</td>\n",
       "      <td>0</td>\n",
       "      <td>0</td>\n",
       "      <td>0</td>\n",
       "      <td>0</td>\n",
       "      <td>0</td>\n",
       "      <td>0</td>\n",
       "      <td>0</td>\n",
       "      <td>0</td>\n",
       "      <td>0</td>\n",
       "      <td>0</td>\n",
       "      <td>0</td>\n",
       "      <td>0</td>\n",
       "      <td>0</td>\n",
       "      <td>0</td>\n",
       "      <td>0</td>\n",
       "      <td>0</td>\n",
       "      <td>0</td>\n",
       "      <td>0</td>\n",
       "      <td>0</td>\n",
       "      <td>0</td>\n",
       "      <td>0</td>\n",
       "      <td>0</td>\n",
       "      <td>0</td>\n",
       "      <td>0</td>\n",
       "    </tr>\n",
       "  </tbody>\n",
       "</table>\n",
       "</div>"
      ],
      "text/plain": [
       "   bath  balcony  price  total_sqft_int  bhk  price_per_sqft  \\\n",
       "0   3.0      2.0  150.0          1672.0    3     8971.291866   \n",
       "1   3.0      3.0  149.0          1750.0    3     8514.285714   \n",
       "2   3.0      2.0  150.0          1750.0    3     8571.428571   \n",
       "3   2.0      2.0   40.0          1250.0    2     3200.000000   \n",
       "4   2.0      2.0   83.0          1200.0    2     6916.666667   \n",
       "\n",
       "   area_typeSuper built-up Area  area_typeBuilt-up Area  area_typePlot Area  \\\n",
       "0                             0                       0                   0   \n",
       "1                             0                       0                   0   \n",
       "2                             0                       0                   0   \n",
       "3                             0                       0                   0   \n",
       "4                             0                       0                   0   \n",
       "\n",
       "   availability_Ready To Move  location_Whitefield  location_Sarjapur  Road  \\\n",
       "0                           1                    0                        0   \n",
       "1                           1                    0                        0   \n",
       "2                           1                    0                        0   \n",
       "3                           1                    0                        0   \n",
       "4                           1                    0                        0   \n",
       "\n",
       "   location_Electronic City  location_Haralur Road  \\\n",
       "0                         0                      0   \n",
       "1                         0                      0   \n",
       "2                         0                      0   \n",
       "3                         0                      0   \n",
       "4                         0                      0   \n",
       "\n",
       "   location_Raja Rajeshwari Nagar  location_Marathahalli  \\\n",
       "0                               0                      0   \n",
       "1                               0                      0   \n",
       "2                               0                      0   \n",
       "3                               0                      0   \n",
       "4                               0                      0   \n",
       "\n",
       "   location_Hennur Road  location_Bannerghatta Road  location_Uttarahalli  \\\n",
       "0                     0                           0                     0   \n",
       "1                     0                           0                     0   \n",
       "2                     0                           0                     0   \n",
       "3                     0                           0                     0   \n",
       "4                     0                           0                     0   \n",
       "\n",
       "   location_Thanisandra  location_Electronic City Phase II  location_Hebbal  \\\n",
       "0                     0                                  0                0   \n",
       "1                     0                                  0                0   \n",
       "2                     0                                  0                0   \n",
       "3                     0                                  0                0   \n",
       "4                     0                                  0                0   \n",
       "\n",
       "   location_Yelahanka  location_7th Phase JP Nagar  location_Kanakpura Road  \\\n",
       "0                   0                            0                        0   \n",
       "1                   0                            0                        0   \n",
       "2                   0                            0                        0   \n",
       "3                   0                            0                        0   \n",
       "4                   0                            0                        0   \n",
       "\n",
       "   location_KR Puram  location_Sarjapur  location_Rajaji Nagar  \\\n",
       "0                  0                  0                      0   \n",
       "1                  0                  0                      0   \n",
       "2                  0                  0                      0   \n",
       "3                  0                  0                      0   \n",
       "4                  0                  0                      0   \n",
       "\n",
       "   location_Bellandur  location_Kasavanhalli  location_Begur Road  \\\n",
       "0                   0                      0                    0   \n",
       "1                   0                      0                    0   \n",
       "2                   0                      0                    0   \n",
       "3                   0                      0                    0   \n",
       "4                   0                      0                    0   \n",
       "\n",
       "   location_Kothanur  location_Banashankari  location_Hormavu  \\\n",
       "0                  0                      0                 0   \n",
       "1                  0                      0                 0   \n",
       "2                  0                      0                 0   \n",
       "3                  0                      0                 0   \n",
       "4                  0                      0                 0   \n",
       "\n",
       "   location_Harlur  location_Akshaya Nagar  location_Electronics City Phase 1  \\\n",
       "0                0                       0                                  0   \n",
       "1                0                       0                                  0   \n",
       "2                0                       0                                  0   \n",
       "3                0                       0                                  0   \n",
       "4                0                       0                                  0   \n",
       "\n",
       "   location_Jakkur  location_Varthur  location_Hennur  \\\n",
       "0                0                 0                0   \n",
       "1                0                 0                0   \n",
       "2                0                 0                0   \n",
       "3                0                 0                0   \n",
       "4                0                 0                0   \n",
       "\n",
       "   location_Ramamurthy Nagar  location_HSR Layout  location_Chandapura  \\\n",
       "0                          0                    0                    0   \n",
       "1                          0                    0                    0   \n",
       "2                          0                    0                    0   \n",
       "3                          0                    0                    0   \n",
       "4                          0                    0                    0   \n",
       "\n",
       "   location_Kundalahalli  location_Kaggadasapura  location_Koramangala  \\\n",
       "0                      0                       0                     0   \n",
       "1                      0                       0                     0   \n",
       "2                      0                       0                     0   \n",
       "3                      0                       0                     0   \n",
       "4                      0                       0                     0   \n",
       "\n",
       "   location_Ramagondanahalli  location_Budigere  location_Hulimavu  \\\n",
       "0                          0                  0                  0   \n",
       "1                          0                  0                  0   \n",
       "2                          0                  0                  0   \n",
       "3                          0                  0                  0   \n",
       "4                          0                  0                  0   \n",
       "\n",
       "   location_Hoodi  location_Malleshwaram  location_JP Nagar  \\\n",
       "0               0                      0                  0   \n",
       "1               0                      0                  0   \n",
       "2               0                      0                  0   \n",
       "3               0                      0                  0   \n",
       "4               0                      0                  0   \n",
       "\n",
       "   location_8th Phase JP Nagar  location_Hegde Nagar  location_Yeshwanthpur  \\\n",
       "0                            0                     0                      0   \n",
       "1                            0                     0                      0   \n",
       "2                            0                     0                      0   \n",
       "3                            0                     0                      0   \n",
       "4                            0                     0                      0   \n",
       "\n",
       "   location_Gottigere  location_Bisuvanahalli  location_Channasandra  \\\n",
       "0                   0                       0                      0   \n",
       "1                   0                       0                      0   \n",
       "2                   0                       0                      0   \n",
       "3                   0                       0                      0   \n",
       "4                   0                       0                      0   \n",
       "\n",
       "   location_Vittasandra  location_Indira Nagar  location_Sahakara Nagar  \\\n",
       "0                     0                      0                        0   \n",
       "1                     0                      0                        0   \n",
       "2                     0                      0                        0   \n",
       "3                     0                      0                        0   \n",
       "4                     0                      0                        0   \n",
       "\n",
       "   location_Vijayanagar  location_Hosa Road  location_Brookefield  \\\n",
       "0                     0                   0                     0   \n",
       "1                     0                   0                     0   \n",
       "2                     0                   0                     0   \n",
       "3                     0                   0                     0   \n",
       "4                     0                   0                     0   \n",
       "\n",
       "   location_Old Airport Road  location_Kengeri  location_Bommasandra  \\\n",
       "0                          0                 0                     0   \n",
       "1                          0                 0                     0   \n",
       "2                          0                 0                     0   \n",
       "3                          0                 0                     0   \n",
       "4                          0                 0                     0   \n",
       "\n",
       "   location_Balagere  location_Green Glen Layout  location_Kudlu Gate  \\\n",
       "0                  0                           0                    0   \n",
       "1                  0                           0                    0   \n",
       "2                  0                           0                    0   \n",
       "3                  0                           0                    0   \n",
       "4                  0                           0                    0   \n",
       "\n",
       "   location_Panathur  location_Rachenahalli  location_Old Madras Road  \\\n",
       "0                  0                      0                         0   \n",
       "1                  0                      0                         0   \n",
       "2                  0                      0                         0   \n",
       "3                  0                      0                         0   \n",
       "4                  0                      0                         0   \n",
       "\n",
       "   location_Kadugodi  location_Jigani  location_Ambedkar Nagar  \\\n",
       "0                  0                0                        0   \n",
       "1                  0                0                        0   \n",
       "2                  0                0                        0   \n",
       "3                  0                0                        0   \n",
       "4                  0                0                        0   \n",
       "\n",
       "   location_Talaghattapura  location_Thigalarapalya  \\\n",
       "0                        0                        0   \n",
       "1                        0                        0   \n",
       "2                        0                        0   \n",
       "3                        0                        0   \n",
       "4                        0                        0   \n",
       "\n",
       "   location_Yelahanka New Town  location_Mysore Road  location_Dodda Nekkundi  \\\n",
       "0                            0                     0                        0   \n",
       "1                            0                     0                        0   \n",
       "2                            0                     0                        0   \n",
       "3                            0                     0                        0   \n",
       "4                            0                     0                        0   \n",
       "\n",
       "   location_Devanahalli  location_Attibele  location_Kanakapura  \\\n",
       "0                     0                  0                    0   \n",
       "1                     0                  0                    0   \n",
       "2                     0                  0                    0   \n",
       "3                     0                  0                    0   \n",
       "4                     0                  0                    0   \n",
       "\n",
       "   location_Frazer Town  location_TC Palaya  location_5th Phase JP Nagar  \\\n",
       "0                     0                   0                            0   \n",
       "1                     0                   0                            0   \n",
       "2                     0                   0                            0   \n",
       "3                     0                   0                            0   \n",
       "4                     0                   0                            0   \n",
       "\n",
       "   location_Ananth Nagar  location_Nagarbhavi  location_Anekal  \\\n",
       "0                      0                    0                0   \n",
       "1                      0                    0                0   \n",
       "2                      0                    0                0   \n",
       "3                      0                    0                0   \n",
       "4                      0                    0                0   \n",
       "\n",
       "   location_Lakshminarayana Pura  location_Kudlu  location_Jalahalli  \\\n",
       "0                              0               0                   0   \n",
       "1                              0               0                   0   \n",
       "2                              0               0                   0   \n",
       "3                              0               0                   0   \n",
       "4                              0               0                   0   \n",
       "\n",
       "   location_Kengeri Satellite Town  location_CV Raman Nagar  \\\n",
       "0                                0                        0   \n",
       "1                                0                        0   \n",
       "2                                0                        0   \n",
       "3                                0                        0   \n",
       "4                                0                        0   \n",
       "\n",
       "   location_Bhoganhalli  location_Subramanyapura  location_Kalena Agrahara  \\\n",
       "0                     0                        0                         0   \n",
       "1                     0                        0                         0   \n",
       "2                     0                        0                         0   \n",
       "3                     0                        0                         0   \n",
       "4                     0                        0                         0   \n",
       "\n",
       "   location_Horamavu Agara  location_Doddathoguru  location_BTM 2nd Stage  \\\n",
       "0                        0                      0                       0   \n",
       "1                        0                      0                       0   \n",
       "2                        0                      0                       0   \n",
       "3                        0                      0                       0   \n",
       "4                        0                      0                       0   \n",
       "\n",
       "   location_Hosur Road  location_Vidyaranyapura  location_Hebbal Kempapura  \\\n",
       "0                    0                        0                          0   \n",
       "1                    0                        0                          0   \n",
       "2                    0                        0                          0   \n",
       "3                    0                        0                          0   \n",
       "4                    0                        0                          0   \n",
       "\n",
       "   location_Mahadevpura  location_Tumkur Road  location_Horamavu Banaswadi  \\\n",
       "0                     0                     0                            0   \n",
       "1                     0                     0                            0   \n",
       "2                     0                     0                            0   \n",
       "3                     0                     0                            0   \n",
       "4                     0                     0                            0   \n",
       "\n",
       "   location_Domlur  \n",
       "0                0  \n",
       "1                0  \n",
       "2                0  \n",
       "3                0  \n",
       "4                0  "
      ]
     },
     "execution_count": 27,
     "metadata": {
      "tags": []
     },
     "output_type": "execute_result"
    }
   ],
   "source": [
    "df.head()"
   ]
  },
  {
   "cell_type": "code",
   "execution_count": 28,
   "metadata": {
    "colab": {
     "base_uri": "https://localhost:8080/"
    },
    "id": "5oDE03nObhEM",
    "outputId": "83c93a2c-8dca-4022-c983-313753c31880"
   },
   "outputs": [
    {
     "name": "stdout",
     "output_type": "stream",
     "text": [
      "shape of x= (7120, 107)\n",
      "shape of y= (7120,)\n"
     ]
    }
   ],
   "source": [
    "x=df.drop(\"price\",axis=1)\n",
    "y=df[\"price\"]\n",
    "print(\"shape of x=\",x.shape)\n",
    "print(\"shape of y=\",y.shape)"
   ]
  },
  {
   "cell_type": "code",
   "execution_count": 29,
   "metadata": {
    "colab": {
     "base_uri": "https://localhost:8080/"
    },
    "id": "8N1wPlchbs6p",
    "outputId": "da68a664-5fbf-43f9-94d6-d519ac1e5833"
   },
   "outputs": [
    {
     "name": "stdout",
     "output_type": "stream",
     "text": [
      "shape of x_train= (5696, 107)\n",
      "shape of y_train= (5696,)\n",
      "shape of x_test= (1424, 107)\n",
      "shape of y_test= (1424,)\n"
     ]
    }
   ],
   "source": [
    "#split dataset in train and test\n",
    "from sklearn.model_selection import train_test_split\n",
    "x_train,x_test,y_train,y_test=train_test_split(x,y,test_size=0.2,random_state=51)\n",
    "print(\"shape of x_train=\",x_train.shape)\n",
    "print(\"shape of y_train=\",y_train.shape)\n",
    "print(\"shape of x_test=\",x_test.shape)\n",
    "print(\"shape of y_test=\",y_test.shape)"
   ]
  },
  {
   "cell_type": "code",
   "execution_count": 30,
   "metadata": {
    "id": "hr0hcgkmcCJh"
   },
   "outputs": [],
   "source": [
    "from sklearn.preprocessing import StandardScaler\n",
    "sc=StandardScaler()\n",
    "sc.fit(x_train)\n",
    "x_train=sc.transform(x_train)\n",
    "x_test=sc.transform(x_test)"
   ]
  },
  {
   "cell_type": "code",
   "execution_count": 31,
   "metadata": {
    "id": "uLU_6FwDcLBS"
   },
   "outputs": [],
   "source": [
    "from sklearn.linear_model import LinearRegression\n",
    "from sklearn.linear_model import Lasso\n",
    "from sklearn.linear_model import Ridge\n",
    "from sklearn.metrics import mean_squared_error\n",
    "lr = LinearRegression()\n",
    "lr_lasso = Lasso()\n",
    "lr_ridge = Ridge()"
   ]
  },
  {
   "cell_type": "code",
   "execution_count": 32,
   "metadata": {
    "id": "DL8miS6Ec73v"
   },
   "outputs": [],
   "source": [
    "def rmse(y_test, y_pred):\n",
    "  return np.sqrt(mean_squared_error(y_test, y_pred))"
   ]
  },
  {
   "cell_type": "code",
   "execution_count": 33,
   "metadata": {
    "colab": {
     "base_uri": "https://localhost:8080/"
    },
    "id": "toe8pKmqdDlc",
    "outputId": "1d44a9ee-b7a4-4711-ac5a-4fc1e7b4d99e"
   },
   "outputs": [
    {
     "data": {
      "text/plain": [
       "(0.7917325013731912, 64.68930136543543)"
      ]
     },
     "execution_count": 33,
     "metadata": {
      "tags": []
     },
     "output_type": "execute_result"
    }
   ],
   "source": [
    "lr.fit(x_train,y_train)\n",
    "lr_score=lr.score(x_test,y_test)\n",
    "lr_rmse=rmse(y_test,lr.predict(x_test))\n",
    "lr_score,lr_rmse"
   ]
  },
  {
   "cell_type": "code",
   "execution_count": 34,
   "metadata": {
    "colab": {
     "base_uri": "https://localhost:8080/"
    },
    "id": "vGdlHBRNdJXk",
    "outputId": "0384c5af-6338-45f9-a9a7-8d069c6f3a15"
   },
   "outputs": [
    {
     "data": {
      "text/plain": [
       "(0.8038760088830822, 62.775050623930376)"
      ]
     },
     "execution_count": 34,
     "metadata": {
      "tags": []
     },
     "output_type": "execute_result"
    }
   ],
   "source": [
    "lr_lasso.fit(x_train,y_train)\n",
    "lr_lasso_score=lr_lasso.score(x_test,y_test)\n",
    "lr_lasso_rmse=rmse(y_test,lr_lasso.predict(x_test))\n",
    "lr_lasso_score,lr_lasso_rmse"
   ]
  },
  {
   "cell_type": "code",
   "execution_count": 35,
   "metadata": {
    "colab": {
     "base_uri": "https://localhost:8080/"
    },
    "id": "dayJdielaVUI",
    "outputId": "e30e9ccd-f943-407e-fd96-95b091569aa5"
   },
   "outputs": [
    {
     "data": {
      "text/plain": [
       "(0.7919013501124277, 64.66307326506092)"
      ]
     },
     "execution_count": 35,
     "metadata": {
      "tags": []
     },
     "output_type": "execute_result"
    }
   ],
   "source": [
    "lr_ridge.fit(x_train,y_train)\n",
    "lr_ridge_score=lr_ridge.score(x_test,y_test)\n",
    "lr_ridge_rmse=rmse(y_test,lr_ridge.predict(x_test))\n",
    "lr_ridge_score,lr_ridge_rmse"
   ]
  },
  {
   "cell_type": "code",
   "execution_count": 36,
   "metadata": {
    "colab": {
     "base_uri": "https://localhost:8080/"
    },
    "id": "i1e7F0DcjGjA",
    "outputId": "b1549149-be31-45f0-9aaf-266406005329"
   },
   "outputs": [
    {
     "data": {
      "text/plain": [
       "(0.21610213615728505, 125.50223235155066)"
      ]
     },
     "execution_count": 36,
     "metadata": {
      "tags": []
     },
     "output_type": "execute_result"
    }
   ],
   "source": [
    "from sklearn.svm import SVR\n",
    "svr=SVR()\n",
    "svr.fit(x_train,y_train)\n",
    "svr_score=svr.score(x_test,y_test)\n",
    "svr_rmse=rmse(y_test,svr.predict(x_test))\n",
    "svr_score,svr_rmse"
   ]
  },
  {
   "cell_type": "code",
   "execution_count": 37,
   "metadata": {
    "colab": {
     "base_uri": "https://localhost:8080/"
    },
    "id": "6LiuWkPI4kOK",
    "outputId": "7493f0df-73f8-4214-eaae-ea1e882691e3"
   },
   "outputs": [
    {
     "data": {
      "text/plain": [
       "(0.8918829069677491, 46.60890397363666)"
      ]
     },
     "execution_count": 37,
     "metadata": {
      "tags": []
     },
     "output_type": "execute_result"
    }
   ],
   "source": [
    "from sklearn.ensemble import RandomForestRegressor\n",
    "rfr=RandomForestRegressor()\n",
    "rfr.fit(x_train,y_train)\n",
    "rfr_score=rfr.score(x_test,y_test)\n",
    "rfr_rmse=rmse(y_test,rfr.predict(x_test))\n",
    "rfr_score,rfr_rmse"
   ]
  },
  {
   "cell_type": "code",
   "execution_count": 38,
   "metadata": {
    "colab": {
     "base_uri": "https://localhost:8080/"
    },
    "id": "8-epmUVQ5zIB",
    "outputId": "c2c6aae6-d9a8-4e46-bcd9-47bb6a55727c"
   },
   "outputs": [
    {
     "name": "stdout",
     "output_type": "stream",
     "text": [
      "[04:47:46] WARNING: /workspace/src/objective/regression_obj.cu:152: reg:linear is now deprecated in favor of reg:squarederror.\n"
     ]
    },
    {
     "data": {
      "text/plain": [
       "(0.8795224594688463, 49.201093701747396)"
      ]
     },
     "execution_count": 38,
     "metadata": {
      "tags": []
     },
     "output_type": "execute_result"
    }
   ],
   "source": [
    "import xgboost\n",
    "xgb_reg=xgboost.XGBRegressor()\n",
    "xgb_reg.fit(x_train,y_train)\n",
    "xgb_reg_score=xgb_reg.score(x_test,y_test)\n",
    "xgb_reg_rmse=rmse(y_test,xgb_reg.predict(x_test))\n",
    "xgb_reg_score,xgb_reg_rmse"
   ]
  },
  {
   "cell_type": "code",
   "execution_count": 39,
   "metadata": {
    "colab": {
     "base_uri": "https://localhost:8080/"
    },
    "id": "JpjCo5GbG4cQ",
    "outputId": "e8206acc-82aa-4481-a911-821ffe426a1e"
   },
   "outputs": [
    {
     "name": "stdout",
     "output_type": "stream",
     "text": [
      "                    Model     Score        RMSE\n",
      "0       Linear Regression  0.791733   64.689301\n",
      "1                   Lasso  0.803876   62.775051\n",
      "2                   Ridge  0.791901   64.663073\n",
      "3  Support Vector Machine  0.216102  125.502232\n",
      "4           Random Forest  0.891883   46.608904\n",
      "5                 XGBoost  0.879522   49.201094\n"
     ]
    }
   ],
   "source": [
    "print(pd.DataFrame([{'Model': 'Linear Regression','Score':lr_score, \"RMSE\":lr_rmse},\n",
    "              {'Model': 'Lasso','Score':lr_lasso_score, \"RMSE\":lr_lasso_rmse},\n",
    "              {'Model': 'Ridge','Score':lr_ridge_score, \"RMSE\":lr_ridge_rmse},\n",
    "              {'Model': 'Support Vector Machine','Score':svr_score, \"RMSE\":svr_rmse},\n",
    "              {'Model': 'Random Forest','Score':rfr_score, \"RMSE\":rfr_rmse},\n",
    "              {'Model': 'XGBoost','Score':xgb_reg_score, \"RMSE\":xgb_reg_rmse}],\n",
    "               columns=['Model','Score','RMSE']))"
   ]
  },
  {
   "cell_type": "code",
   "execution_count": 40,
   "metadata": {
    "colab": {
     "base_uri": "https://localhost:8080/"
    },
    "id": "LXCdE9eQYq-z",
    "outputId": "be20b071-8bcc-4d4b-a973-5d74cff62fc0"
   },
   "outputs": [
    {
     "name": "stdout",
     "output_type": "stream",
     "text": [
      "[04:48:24] WARNING: /workspace/src/objective/regression_obj.cu:152: reg:linear is now deprecated in favor of reg:squarederror.\n",
      "[04:48:26] WARNING: /workspace/src/objective/regression_obj.cu:152: reg:linear is now deprecated in favor of reg:squarederror.\n",
      "[04:48:27] WARNING: /workspace/src/objective/regression_obj.cu:152: reg:linear is now deprecated in favor of reg:squarederror.\n",
      "[04:48:28] WARNING: /workspace/src/objective/regression_obj.cu:152: reg:linear is now deprecated in favor of reg:squarederror.\n",
      "[04:48:29] WARNING: /workspace/src/objective/regression_obj.cu:152: reg:linear is now deprecated in favor of reg:squarederror.\n",
      "[04:48:30] WARNING: /workspace/src/objective/regression_obj.cu:152: reg:linear is now deprecated in favor of reg:squarederror.\n",
      "[04:48:32] WARNING: /workspace/src/objective/regression_obj.cu:152: reg:linear is now deprecated in favor of reg:squarederror.\n",
      "[04:48:33] WARNING: /workspace/src/objective/regression_obj.cu:152: reg:linear is now deprecated in favor of reg:squarederror.\n",
      "[04:48:34] WARNING: /workspace/src/objective/regression_obj.cu:152: reg:linear is now deprecated in favor of reg:squarederror.\n",
      "[04:48:35] WARNING: /workspace/src/objective/regression_obj.cu:152: reg:linear is now deprecated in favor of reg:squarederror.\n"
     ]
    },
    {
     "data": {
      "text/plain": [
       "(array([0.99380158, 0.99051863, 0.99023422, 0.98550236, 0.98553624,\n",
       "        0.99224801, 0.98270072, 0.94283268, 0.99437309, 0.98687658]),\n",
       " 0.9844624101293981)"
      ]
     },
     "execution_count": 40,
     "metadata": {
      "tags": []
     },
     "output_type": "execute_result"
    }
   ],
   "source": [
    "#cross validation\n",
    "from sklearn.model_selection import KFold,cross_val_score\n",
    "cvs = cross_val_score(xgb_reg,x_train,y_train,cv=10)\n",
    "cvs,cvs.mean() "
   ]
  },
  {
   "cell_type": "code",
   "execution_count": 20,
   "metadata": {
    "colab": {
     "base_uri": "https://localhost:8080/"
    },
    "id": "eXNnSL-MaDRj",
    "outputId": "7da72e4e-ca73-4308-a65a-67472310fb0b"
   },
   "outputs": [
    {
     "data": {
      "text/plain": [
       "(array([0.99501918, 0.94535852, 0.99696932, 0.97265033, 0.96424898,\n",
       "        0.90633637, 0.93137555, 0.90869196, 0.99625162, 0.99263704]),\n",
       " 0.9609538868961097)"
      ]
     },
     "execution_count": 20,
     "metadata": {
      "tags": []
     },
     "output_type": "execute_result"
    }
   ],
   "source": [
    "cvs_rfr=cross_val_score(rfr,x_train,y_train,cv=10)\n",
    "cvs_rfr,cvs_rfr.mean()"
   ]
  },
  {
   "cell_type": "code",
   "execution_count": 41,
   "metadata": {
    "colab": {
     "base_uri": "https://localhost:8080/"
    },
    "id": "8pDeWrQCaBjb",
    "outputId": "05fc9a83-e3ff-45fd-aacf-4e9a33245723"
   },
   "outputs": [
    {
     "data": {
      "text/plain": [
       "(array([0.99303543, 0.946166  , 0.99546808, 0.97517952, 0.965013  ,\n",
       "        0.93472914, 0.93566916, 0.91383611, 0.99669426, 0.97990259]),\n",
       " 0.9635693292850819)"
      ]
     },
     "execution_count": 41,
     "metadata": {
      "tags": []
     },
     "output_type": "execute_result"
    }
   ],
   "source": [
    "cvs_rfr2=cross_val_score(rfr,x_train,y_train,cv=10)\n",
    "cvs_rfr2,cvs_rfr2.mean()"
   ]
  },
  {
   "cell_type": "code",
   "execution_count": null,
   "metadata": {
    "colab": {
     "base_uri": "https://localhost:8080/"
    },
    "id": "mNzb29NIinq0",
    "outputId": "cef15468-d441-4038-ce47-26c6524fa6f1"
   },
   "outputs": [
    {
     "name": "stdout",
     "output_type": "stream",
     "text": [
      "Fitting 2 folds for each of 3888 candidates, totalling 7776 fits\n"
     ]
    },
    {
     "name": "stderr",
     "output_type": "stream",
     "text": [
      "[Parallel(n_jobs=-1)]: Using backend LokyBackend with 2 concurrent workers.\n",
      "[Parallel(n_jobs=-1)]: Done  46 tasks      | elapsed:   50.7s\n",
      "[Parallel(n_jobs=-1)]: Done 196 tasks      | elapsed:  5.0min\n",
      "[Parallel(n_jobs=-1)]: Done 446 tasks      | elapsed: 11.5min\n",
      "[Parallel(n_jobs=-1)]: Done 796 tasks      | elapsed: 20.9min\n",
      "[Parallel(n_jobs=-1)]: Done 1246 tasks      | elapsed: 32.8min\n",
      "[Parallel(n_jobs=-1)]: Done 1796 tasks      | elapsed: 48.1min\n",
      "[Parallel(n_jobs=-1)]: Done 2446 tasks      | elapsed: 65.5min\n",
      "[Parallel(n_jobs=-1)]: Done 3196 tasks      | elapsed: 90.6min\n",
      "[Parallel(n_jobs=-1)]: Done 4046 tasks      | elapsed: 121.3min\n",
      "[Parallel(n_jobs=-1)]: Done 4996 tasks      | elapsed: 154.6min\n",
      "[Parallel(n_jobs=-1)]: Done 7776 out of 7776 | elapsed: 161.9min finished\n"
     ]
    },
    {
     "name": "stdout",
     "output_type": "stream",
     "text": [
      "[12:18:11] WARNING: /workspace/src/objective/regression_obj.cu:152: reg:linear is now deprecated in favor of reg:squarederror.\n",
      "0.9534636832481846\n",
      "{'colsample_bytree': 1, 'gamma': 0, 'learning_rate': 0.05, 'max_depth': 4, 'min_child_weight': 3, 'n_estimators': 500, 'objective': 'reg:linear', 'subsample': 0.7}\n"
     ]
    }
   ],
   "source": [
    "#Hyper parameter tunning\n",
    "from sklearn.model_selection import GridSearchCV\n",
    "from xgboost.sklearn import XGBRegressor\n",
    "xgb1 = XGBRegressor()\n",
    "parameters = {'learning_rate': [0.1,0.03, 0.05, 0.07],\n",
    "              'min_child_weight': [1,3,5],\n",
    "              'max_depth': [4, 6, 8],\n",
    "              'gamma':[0,0.1,0.001,0.2],\n",
    "              'subsample': [0.7,1,1.5],\n",
    "              'colsample_bytree': [0.7,1,1.5],\n",
    "              'objective':['reg:linear'],\n",
    "              'n_estimators': [100,300,500]}\n",
    " \n",
    "xgb_grid = GridSearchCV(xgb1,\n",
    "                        parameters,\n",
    "                        cv = 2,\n",
    "                        n_jobs = -1,\n",
    "                        verbose=True)\n",
    " \n",
    "xgb_grid.fit(x_train,y_train)\n",
    " \n",
    "print(xgb_grid.best_score_)\n",
    "print(xgb_grid.best_params_)"
   ]
  },
  {
   "cell_type": "code",
   "execution_count": null,
   "metadata": {
    "colab": {
     "base_uri": "https://localhost:8080/"
    },
    "id": "ps-lIsRsZ_EE",
    "outputId": "a5711bfc-9b24-4297-ac10-7c07d127536e"
   },
   "outputs": [
    {
     "name": "stdout",
     "output_type": "stream",
     "text": [
      "[12:57:26] WARNING: /workspace/src/objective/regression_obj.cu:152: reg:linear is now deprecated in favor of reg:squarederror.\n"
     ]
    },
    {
     "data": {
      "text/plain": [
       "0.8795224594688463"
      ]
     },
     "execution_count": 31,
     "metadata": {
      "tags": []
     },
     "output_type": "execute_result"
    }
   ],
   "source": [
    "xgb_tune=xgb_grid.estimator\n",
    "xgb_tune.fit(x_train,y_train)\n",
    "xgb_tune.score(x_test,y_test)"
   ]
  },
  {
   "cell_type": "markdown",
   "metadata": {},
   "source": [
    "# Conclusion"
   ]
  },
  {
   "cell_type": "markdown",
   "metadata": {},
   "source": [
    "1.From this project we can conclude that random forest regressor gives the 89% accuracy and the XGBoost gives the 87% accuracy\n",
    "but the cross validation of the XGBoost gives the highest accuracy as compared to random forest regressor hence we consider\n",
    "the XGBoost.\n",
    "\n",
    "2.But using the hyperparameter it gives the 87% accuracy which is similar to XGBoost.\n",
    "\n",
    "3.The price of houses are increases as we have the no of bathrooms,balcony etc."
   ]
  },
  {
   "cell_type": "markdown",
   "metadata": {},
   "source": [
    "# Thank you"
   ]
  }
 ],
 "metadata": {
  "colab": {
   "collapsed_sections": [],
   "name": "ML model.ipynb",
   "provenance": []
  },
  "kernelspec": {
   "display_name": "Python 3",
   "language": "python",
   "name": "python3"
  },
  "language_info": {
   "codemirror_mode": {
    "name": "ipython",
    "version": 3
   },
   "file_extension": ".py",
   "mimetype": "text/x-python",
   "name": "python",
   "nbconvert_exporter": "python",
   "pygments_lexer": "ipython3",
   "version": "3.8.8"
  }
 },
 "nbformat": 4,
 "nbformat_minor": 1
}
